{
 "cells": [
  {
   "cell_type": "markdown",
   "metadata": {},
   "source": [
    "Inciso a)"
   ]
  },
  {
   "cell_type": "markdown",
   "metadata": {},
   "source": [
    "Una distribucion de Bernoulli tiene una variable aleatoria que cuenta con $Exito$ o $Fracaso$, mientras que una distribucion Binomial es repetir una muestra de Bernoulli n cantidad de veces. Por lo tanto una distribucion binomial pose dos parametros:\n",
    "$p$ que indica la propabilidad de exito y $n$ que indica la cantidad de repeticiones de la muestra."
   ]
  },
  {
   "cell_type": "code",
   "execution_count": 1,
   "metadata": {},
   "outputs": [],
   "source": [
    "from random import random \n",
    "import math\n",
    "import numpy as np\n",
    "import matplotlib.pyplot as plt"
   ]
  },
  {
   "cell_type": "code",
   "execution_count": 2,
   "metadata": {},
   "outputs": [],
   "source": [
    "from scipy.stats import binom \n",
    "# Puedo usar la funcion binomial de scipy"
   ]
  },
  {
   "cell_type": "code",
   "execution_count": 73,
   "metadata": {},
   "outputs": [],
   "source": [
    "v_Bin = np.random.binomial(10, 0.4, 100)\n",
    "# generamos 100 valores que siguen una distribucion binomial"
   ]
  },
  {
   "cell_type": "code",
   "execution_count": 74,
   "metadata": {},
   "outputs": [
    {
     "data": {
      "text/plain": [
       "100"
      ]
     },
     "execution_count": 74,
     "metadata": {},
     "output_type": "execute_result"
    }
   ],
   "source": [
    "len(v_Bin)\n",
    "# La lista de elementos nos debe dar el numero N"
   ]
  },
  {
   "cell_type": "code",
   "execution_count": 75,
   "metadata": {},
   "outputs": [
    {
     "data": {
      "text/plain": [
       "Text(0, 0.5, 'Frecuencia')"
      ]
     },
     "execution_count": 75,
     "metadata": {},
     "output_type": "execute_result"
    },
    {
     "data": {
      "image/png": "[encoded data removed]",
      "text/plain": [
       "<Figure size 432x288 with 1 Axes>"
      ]
     },
     "metadata": {
      "needs_background": "light"
     },
     "output_type": "display_data"
    }
   ],
   "source": [
    "# Hago el histograma\n",
    "plt.hist(v_Bin, bins = [i -.5 for i in range(12)] )\n",
    "# Para que los bins esten centrados \n",
    "Conteo = np.array(plt.hist(v_Bin, bins = [i -.5 for i in range(12)] )[0])\n",
    "plt.xlabel('Numero de exitos')\n",
    "plt.ylabel('Frecuencia')"
   ]
  },
  {
   "cell_type": "code",
   "execution_count": 76,
   "metadata": {},
   "outputs": [
    {
     "data": {
      "text/plain": [
       "array([ 1.,  1., 19., 22., 25., 17., 10.,  3.,  2.,  0.,  0.])"
      ]
     },
     "execution_count": 76,
     "metadata": {},
     "output_type": "execute_result"
    }
   ],
   "source": [
    "Conteo\n",
    "# Nos da la frecuencia de cada exito, en orden seria 0, 1, 2, 3, 4, 5, 6, ,8, 9, 10\n",
    "# Notar que para algunos la frecuencia es nula, con un numero mayor esto puede cambiar"
   ]
  },
  {
   "cell_type": "code",
   "execution_count": 77,
   "metadata": {},
   "outputs": [
    {
     "data": {
      "text/plain": [
       "Text(0, 0.5, 'Frecuencia Relativa')"
      ]
     },
     "execution_count": 77,
     "metadata": {},
     "output_type": "execute_result"
    },
    {
     "data": {
      "image/png": "[encoded data removed]",
      "text/plain": [
       "<Figure size 432x288 with 1 Axes>"
      ]
     },
     "metadata": {
      "needs_background": "light"
     },
     "output_type": "display_data"
    }
   ],
   "source": [
    "Frec = plt.hist(v_Bin, density = True, bins = [i -.5 for i in range(12)])\n",
    "plt.xlabel('Numero de exitos')\n",
    "plt.ylabel('Frecuencia Relativa')\n",
    "# Frec [0] nos da la frecuencia relativa de cada exito"
   ]
  },
  {
   "cell_type": "markdown",
   "metadata": {},
   "source": [
    "Creo la distribucion binomial teorica"
   ]
  },
  {
   "cell_type": "code",
   "execution_count": 78,
   "metadata": {},
   "outputs": [
    {
     "name": "stdout",
     "output_type": "stream",
     "text": [
      "r\tp(r)\n",
      "0\t0.0060466176\n",
      "1\t0.04031078400000004\n",
      "2\t0.12093235199999994\n",
      "3\t0.21499084800000012\n",
      "4\t0.2508226560000002\n",
      "5\t0.20065812480000034\n",
      "6\t0.11147673600000013\n",
      "7\t0.04246732800000004\n",
      "8\t0.010616832\n",
      "9\t0.0015728640000000028\n",
      "10\t0.00010485760000000014\n",
      "Media = 4.0\n",
      "Varianza = 2.4\n"
     ]
    },
    {
     "data": {
      "text/plain": [
       "<BarContainer object of 11 artists>"
      ]
     },
     "execution_count": 78,
     "metadata": {},
     "output_type": "execute_result"
    },
    {
     "data": {
      "image/png": "[encoded data removed]",
      "text/plain": [
       "<Figure size 432x288 with 1 Axes>"
      ]
     },
     "metadata": {
      "needs_background": "light"
     },
     "output_type": "display_data"
    }
   ],
   "source": [
    "        n = 10\n",
    "        p = 0.4\n",
    "        # defino los valores de r, es el numero de exitos (de 0 a 10), seria k\n",
    "        r_values = list(range(n + 1)) \n",
    "        # Asi llega hasta 10 exitos\n",
    "        # Obtengo la media y la varianza \n",
    "        mu, s = binom.stats(n, p)  \n",
    "        lista = [binom.pmf(r, n, p) for r in r_values ]  \n",
    "        print(\"r\\tp(r)\") \n",
    "        for i in range(n + 1): \n",
    "            print(str(r_values[i]) + \"\\t\" + str(lista[i])) \n",
    "        #    \\t  nos hace un tab horizontal \n",
    "        print(\"Media = \"+str(mu)) \n",
    "        print(\"Varianza = \"+str(s))\n",
    "        plt.bar(r_values, lista) "
   ]
  },
  {
   "cell_type": "markdown",
   "metadata": {},
   "source": [
    "Esto nos da una tabla de la probabilidad de cada numero de exitos, a diferencia de la empirica, estos valores son teoricos y no me van a cambiar si re ejecuto la funcion "
   ]
  },
  {
   "cell_type": "markdown",
   "metadata": {},
   "source": [
    "Inciso b)"
   ]
  },
  {
   "cell_type": "markdown",
   "metadata": {},
   "source": [
    "El $\\chi^2$, la prueba chi-cuadrado pertenece a las llamadas pruebas de bondad de ajuste o contrastes, que tienen el objetivo de decidir si puede aceptarse la hipótesis de que una muestra dada procede de una población con una distribución de probabilidad totalmente especificada en la hipótesis nula, en este caso con la distribucion teorica. El estadístico chi-cuadrado tomará un valor igual a 0 si existe concordancia perfecta entre las frecuencias observadas y las esperadas; por contra, el estadístico tomará un valor grande si existe una gran discrepancia entre estas frecuencias, y consecuentemente se deberá rechazar la hipótesis nula."
   ]
  },
  {
   "cell_type": "code",
   "execution_count": 68,
   "metadata": {},
   "outputs": [],
   "source": [
    "import scipy.stats as st \n",
    "# Antes debo pasar la frecuencia relativa teorica a un frecuencia absoluta, ==> multiplico por 100 (Numero de repeticiones)"
   ]
  },
  {
   "cell_type": "code",
   "execution_count": 79,
   "metadata": {},
   "outputs": [],
   "source": [
    "Obs_Teo = np.array(lista)\n",
    "# Puedo hacer opercaciones si la paso a un array"
   ]
  },
  {
   "cell_type": "code",
   "execution_count": 108,
   "metadata": {},
   "outputs": [
    {
     "name": "stdout",
     "output_type": "stream",
     "text": [
      "8.443846520432022\n"
     ]
    }
   ],
   "source": [
    "X = 0\n",
    "for i in range(11):\n",
    "    X = (Conteo[i]-(Obs_Teo*100)[i])**2/ ((Obs_Teo*100)[i]) + X\n",
    "print (X)"
   ]
  },
  {
   "cell_type": "markdown",
   "metadata": {},
   "source": [
    "Miro en una tabla el chi-cuadrado critico para un dado alpha y grados de libertad ( v = 10), si el estadistico calculado es mayor que el critico, se descarta la hipotesis nula, sino no se puede descartar.\n",
    "Otra forma es con el valor-p, (el segundo dato que nos da el paquete) si el valor-p es menor que 0.05 se descarta la hipotesis nula (0.01 como valor critico) en caso contrario no se rechaza $Ho$."
   ]
  },
  {
   "cell_type": "markdown",
   "metadata": {},
   "source": [
    "Inciso c)"
   ]
  },
  {
   "cell_type": "code",
   "execution_count": 81,
   "metadata": {},
   "outputs": [
    {
     "name": "stdout",
     "output_type": "stream",
     "text": [
      "8.443846520432022\n"
     ]
    },
    {
     "data": {
      "text/plain": [
       "18.307038053275146"
      ]
     },
     "execution_count": 81,
     "metadata": {},
     "output_type": "execute_result"
    }
   ],
   "source": [
    "# dado una lista empirica de valores de distribucion binomial, quiero compararla con la teorica usando chi-cuadrado\n",
    "alpha = 0.05\n",
    "print(X)\n",
    "f = st.chi2\n",
    "f.ppf(1-alpha,df = 10)\n",
    "# Los grandos de libertad son N-1 con N el numero de bines\n",
    "# f.ppf nos devuelve el quantil para 1 - alpha, si mi valor X obtenido es mayor que el quantil entonces se rechaza la Ho a favor\n",
    "# de la alternativa"
   ]
  },
  {
   "cell_type": "markdown",
   "metadata": {},
   "source": [
    "Como vemos es menor que el X critico, no hay suficientes datos para rechazar la Hipotesis nula"
   ]
  },
  {
   "cell_type": "markdown",
   "metadata": {},
   "source": [
    "Inciso d)\n"
   ]
  },
  {
   "cell_type": "markdown",
   "metadata": {},
   "source": [
    "El valor-p se obtiene usando la funcion acumulada de la restas de las frecuencias observadas y la teorica.\n",
    "Otra forma es tambien usar la funcion de python de antes que la calcula, igualmente busco hacerla de forma manual como alternativa."
   ]
  },
  {
   "cell_type": "code",
   "execution_count": 82,
   "metadata": {},
   "outputs": [
    {
     "name": "stdout",
     "output_type": "stream",
     "text": [
      "0.5855669222865889\n"
     ]
    }
   ],
   "source": [
    "p = 1 - f.cdf(X, 10)\n",
    "print(p)"
   ]
  },
  {
   "cell_type": "markdown",
   "metadata": {},
   "source": [
    "NOTA: Si la distribucion no posee valores nulos, se puede usar la funcion de python chi2_contingency que calcula el valor de chi2, valor-p y un array de las frecuencia relativas."
   ]
  },
  {
   "cell_type": "markdown",
   "metadata": {},
   "source": [
    "Inciso e)"
   ]
  },
  {
   "cell_type": "code",
   "execution_count": 84,
   "metadata": {},
   "outputs": [],
   "source": [
    "mus = np.arange(2,7,0.1)\n",
    "std = 2.5"
   ]
  },
  {
   "cell_type": "code",
   "execution_count": 97,
   "metadata": {},
   "outputs": [
    {
     "data": {
      "image/png": "[encoded data removed]",
      "text/plain": [
       "<Figure size 432x288 with 1 Axes>"
      ]
     },
     "metadata": {
      "needs_background": "light"
     },
     "output_type": "display_data"
    }
   ],
   "source": [
    "Gauss = []\n",
    "for i in range(len(mus)):\n",
    "    x = st.norm.rvs(loc = mus [i], scale = std, size = 100)\n",
    "    Counts = np.array(plt.hist(x, bins = [i -.5 for i in range(12)] )[0])\n",
    "    Gauss.append(Counts)"
   ]
  },
  {
   "cell_type": "code",
   "execution_count": 100,
   "metadata": {},
   "outputs": [
    {
     "data": {
      "text/plain": [
       "array([13., 16., 15., 17., 12.,  7.,  2.,  3.,  1.,  0.,  1.])"
      ]
     },
     "execution_count": 100,
     "metadata": {},
     "output_type": "execute_result"
    }
   ],
   "source": [
    "# Vemos un ejemplo\n",
    "Gauss[0]"
   ]
  },
  {
   "cell_type": "markdown",
   "metadata": {},
   "source": [
    "Calculo el chi2:"
   ]
  },
  {
   "cell_type": "code",
   "execution_count": 102,
   "metadata": {},
   "outputs": [
    {
     "data": {
      "text/plain": [
       "50"
      ]
     },
     "execution_count": 102,
     "metadata": {},
     "output_type": "execute_result"
    }
   ],
   "source": [
    "len(mus)"
   ]
  },
  {
   "cell_type": "code",
   "execution_count": 101,
   "metadata": {},
   "outputs": [
    {
     "data": {
      "text/plain": [
       "50"
      ]
     },
     "execution_count": 101,
     "metadata": {},
     "output_type": "execute_result"
    }
   ],
   "source": [
    "len(Gauss)"
   ]
  },
  {
   "cell_type": "code",
   "execution_count": 119,
   "metadata": {},
   "outputs": [],
   "source": [
    "Xs = []\n",
    "for i in range(len(Gauss)):\n",
    "    X = 0\n",
    "    for k in range(11):\n",
    "        X = (Gauss[i][k]-(Obs_Teo*100)[k])**2/ ((Obs_Teo*100)[k]) + X\n",
    "        Xs.append(X)"
   ]
  },
  {
   "cell_type": "code",
   "execution_count": 122,
   "metadata": {},
   "outputs": [],
   "source": [
    "# Xs?"
   ]
  },
  {
   "cell_type": "code",
   "execution_count": 123,
   "metadata": {},
   "outputs": [],
   "source": [
    "P = []\n",
    "for i in range(len(Xs)):\n",
    "    p = 1 - f.cdf(Xs[i], 10)\n",
    "    P.append(p)"
   ]
  },
  {
   "cell_type": "code",
   "execution_count": 125,
   "metadata": {},
   "outputs": [],
   "source": [
    "# P?"
   ]
  },
  {
   "cell_type": "code",
   "execution_count": null,
   "metadata": {},
   "outputs": [],
   "source": []
  },
  {
   "cell_type": "code",
   "execution_count": null,
   "metadata": {},
   "outputs": [],
   "source": []
  },
  {
   "cell_type": "code",
   "execution_count": null,
   "metadata": {},
   "outputs": [],
   "source": []
  },
  {
   "cell_type": "code",
   "execution_count": null,
   "metadata": {},
   "outputs": [],
   "source": []
  },
  {
   "cell_type": "code",
   "execution_count": null,
   "metadata": {},
   "outputs": [],
   "source": []
  },
  {
   "cell_type": "code",
   "execution_count": null,
   "metadata": {},
   "outputs": [],
   "source": []
  }
 ],
 "metadata": {
  "kernelspec": {
   "display_name": "Python 3",
   "language": "python",
   "name": "python3"
  },
  "language_info": {
   "codemirror_mode": {
    "name": "ipython",
    "version": 3
   },
   "file_extension": ".py",
   "mimetype": "text/x-python",
   "name": "python",
   "nbconvert_exporter": "python",
   "pygments_lexer": "ipython3",
   "version": "3.8.3"
  }
 },
 "nbformat": 4,
 "nbformat_minor": 4
}
