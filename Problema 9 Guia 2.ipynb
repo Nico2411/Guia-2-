{
 "cells": [
  {
   "cell_type": "markdown",
   "metadata": {},
   "source": [
    "El teorema del limite central establece que las medias provenientes de muestras grandes tomadas de poblaciones con una distribucion desconocida, se distribuyen normalmente con media y varianza normal."
   ]
  },
  {
   "cell_type": "code",
   "execution_count": 1,
   "metadata": {},
   "outputs": [],
   "source": [
    "from random import randint\n",
    "import matplotlib.pyplot as plt\n",
    "import numpy as np\n",
    "import math"
   ]
  },
  {
   "cell_type": "markdown",
   "metadata": {},
   "source": [
    "La media aritmetica: \n",
    "<center>\n",
    "$Xmedio = \\frac{ \\Sigma Xi}{N}$\n",
    "</center>\n",
    "Donde N es el cardinal de la muestra.\n",
    "Entonces para calcula la varianza muestral hacemos:\n",
    "<center>\n",
    "$ S^2 = \\frac{\\Sigma (Xi - Xmedio)^2}{N-1}$\n",
    "</center>"
   ]
  },
  {
   "cell_type": "markdown",
   "metadata": {},
   "source": [
    "Para este ejercicio usaremos una muestra de datos."
   ]
  },
  {
   "cell_type": "code",
   "execution_count": 2,
   "metadata": {},
   "outputs": [],
   "source": [
    "#Cargamos el archivo.  \n",
    "data = np.genfromtxt('cumulos_globulares.dat', usecols=6) #Son magnitudes de estrellas en un cúmulo\n",
    "# data tiene NaNs, así que usamos solo los numéricos.\n",
    "data = data[~np.isnan(data)]"
   ]
  },
  {
   "cell_type": "code",
   "execution_count": 3,
   "metadata": {},
   "outputs": [
    {
     "data": {
      "text/plain": [
       "148"
      ]
     },
     "execution_count": 3,
     "metadata": {},
     "output_type": "execute_result"
    }
   ],
   "source": [
    "len(data)"
   ]
  },
  {
   "cell_type": "code",
   "execution_count": 4,
   "metadata": {},
   "outputs": [],
   "source": [
    "def Varianza(a = data):\n",
    "    n = len(a)\n",
    "    S = []\n",
    "    Xm = sum(a)/n\n",
    "#      Xm es la media\n",
    "    \n",
    "    for j in (a):\n",
    "        xi = (j - Xm)**2\n",
    "        S.append(xi)\n",
    "    S2 = sum(S)/(n-1)\n",
    "    return(S2)\n",
    "        "
   ]
  },
  {
   "cell_type": "code",
   "execution_count": 5,
   "metadata": {},
   "outputs": [
    {
     "data": {
      "text/plain": [
       "2.225189740761169"
      ]
     },
     "execution_count": 5,
     "metadata": {},
     "output_type": "execute_result"
    }
   ],
   "source": [
    "Varianza()"
   ]
  },
  {
   "cell_type": "markdown",
   "metadata": {},
   "source": [
    "Esta la varianza para 'data'."
   ]
  },
  {
   "cell_type": "markdown",
   "metadata": {},
   "source": [
    "Quiero hacer varias muestras usando data, sin resposicion, que sortee valores aleatorios en la lista y crear un grafico de las varianzas que obtengo"
   ]
  },
  {
   "cell_type": "code",
   "execution_count": 6,
   "metadata": {},
   "outputs": [],
   "source": [
    "def muestra():\n",
    "    X = []\n",
    "    for i in range (len(data)):\n",
    "        x = data [randint(0,len(data)-1)]\n",
    "        X.append(x)   \n",
    "    return (X)\n",
    "# Esto funcion me genera una muestra eligiendo de manera aleatoria los valores de data"
   ]
  },
  {
   "cell_type": "code",
   "execution_count": 7,
   "metadata": {},
   "outputs": [],
   "source": [
    "lista = []\n",
    "for i in range (10000):\n",
    "#     Hago muchas muestras\n",
    "     m = muestra()\n",
    "     lista.append(m)\n",
    "#         Creo una lista de muestras aleaotorias"
   ]
  },
  {
   "cell_type": "code",
   "execution_count": 8,
   "metadata": {},
   "outputs": [
    {
     "name": "stdout",
     "output_type": "stream",
     "text": [
      "10000\n",
      "148\n"
     ]
    }
   ],
   "source": [
    "# Para chequear\n",
    "print(len(lista))\n",
    "# Veo cuantos elementos tiene la lista\n",
    "print(len(lista[1]))\n",
    "# Veo cuantos elementos tiene un elemento de la lista, deben coincidir con len(data)"
   ]
  },
  {
   "cell_type": "markdown",
   "metadata": {},
   "source": [
    "Ahora quiero calcular la varianza de cada una"
   ]
  },
  {
   "cell_type": "code",
   "execution_count": 9,
   "metadata": {},
   "outputs": [],
   "source": [
    "M = [] \n",
    "for i in (lista):\n",
    "        s = Varianza(i)\n",
    "        M.append(s)          "
   ]
  },
  {
   "cell_type": "code",
   "execution_count": 10,
   "metadata": {},
   "outputs": [
    {
     "data": {
      "text/plain": [
       "10000"
      ]
     },
     "execution_count": 10,
     "metadata": {},
     "output_type": "execute_result"
    }
   ],
   "source": [
    "len(M)"
   ]
  },
  {
   "cell_type": "code",
   "execution_count": 11,
   "metadata": {},
   "outputs": [
    {
     "data": {
      "text/plain": [
       "Text(0, 0.5, 'Conteo')"
      ]
     },
     "execution_count": 11,
     "metadata": {},
     "output_type": "execute_result"
    },
    {
     "data": {
      "image/png": "[encoded data removed]",
      "text/plain": [
       "<Figure size 432x288 with 1 Axes>"
      ]
     },
     "metadata": {
      "needs_background": "light"
     },
     "output_type": "display_data"
    }
   ],
   "source": [
    "plt.hist(M, bins = 'fd')\n",
    "plt.xlabel('S^2')\n",
    "plt.ylabel('Conteo')"
   ]
  },
  {
   "cell_type": "markdown",
   "metadata": {},
   "source": [
    "Quiero obtener el intervalo de confianza dado un alpha, para esto reordeno los valores de la varianza y obtengo los cuantiles con ese alpha."
   ]
  },
  {
   "cell_type": "code",
   "execution_count": 12,
   "metadata": {},
   "outputs": [],
   "source": [
    "M.sort()"
   ]
  },
  {
   "cell_type": "code",
   "execution_count": 13,
   "metadata": {},
   "outputs": [],
   "source": [
    "def IC(a = 0.05):\n",
    "#     a = alpha\n",
    "    IC = []\n",
    "    q1 = a/2\n",
    "    q2 = 1 - a/2\n",
    "    for i in range (len(M)):\n",
    "        if (i+1)/(len(M)+1) >= q1:\n",
    "            S1 = M[i]\n",
    "            break\n",
    "#             encuentro el cuantil para alpha/2\n",
    "    for i in range(len(M)):\n",
    "        if (i+1)/(len(M)+1) >= q2:\n",
    "            S2 = M[i]\n",
    "            break\n",
    "#             Encuentro el quantil para 1 - alpha/2\n",
    "    S0 = np.mean(M)\n",
    "    print('El valor medio de los bootstrap es:',S0,'Intervalo de confianza:', S1, S2)\n",
    "    plt.hist(M, bins = 'fd')\n",
    "    plt.xlabel('S^2')\n",
    "    plt.ylabel('Conteo')\n",
    "    plt.axvline(x=S1, c='red',lw = 2)\n",
    "    plt.axvline(x=S2, c='red', lw = 2)\n",
    "    plt.axvline(x=S0, c='green', lw = 2)"
   ]
  },
  {
   "cell_type": "code",
   "execution_count": 55,
   "metadata": {},
   "outputs": [
    {
     "name": "stdout",
     "output_type": "stream",
     "text": [
      "El valor medio de los bootstrap es: 2.2091925779044863 Intervalo de confianza: 1.6483304467733029 2.850339069681927\n"
     ]
    },
    {
     "data": {
      "image/png": "[encoded data removed]",
      "text/plain": [
       "<Figure size 432x288 with 1 Axes>"
      ]
     },
     "metadata": {
      "needs_background": "light"
     },
     "output_type": "display_data"
    }
   ],
   "source": [
    "IC()"
   ]
  },
  {
   "cell_type": "code",
   "execution_count": 14,
   "metadata": {},
   "outputs": [
    {
     "name": "stdout",
     "output_type": "stream",
     "text": [
      "El valor medio de los bootstrap es: 2.2084186531885455 Intervalo de confianza: 1.4964767972053674 3.056757823129253\n"
     ]
    },
    {
     "data": {
      "image/png": "[encoded data removed]",
      "text/plain": [
       "<Figure size 432x288 with 1 Axes>"
      ]
     },
     "metadata": {
      "needs_background": "light"
     },
     "output_type": "display_data"
    }
   ],
   "source": [
    "IC(a = 0.01)"
   ]
  },
  {
   "cell_type": "code",
   "execution_count": 17,
   "metadata": {},
   "outputs": [
    {
     "name": "stdout",
     "output_type": "stream",
     "text": [
      "El valor medio de los bootstrap es: 2.2084186531885455 Intervalo de confianza: 1.7257494943923513 2.737089060489061\n"
     ]
    },
    {
     "data": {
      "image/png": "[encoded data removed]",
      "text/plain": [
       "<Figure size 432x288 with 1 Axes>"
      ]
     },
     "metadata": {
      "needs_background": "light"
     },
     "output_type": "display_data"
    }
   ],
   "source": [
    "IC(a = 0.1)"
   ]
  },
  {
   "cell_type": "markdown",
   "metadata": {},
   "source": [
    "Vemos que con un $alpha$ mas grande el IC se hace mas chico."
   ]
  },
  {
   "cell_type": "code",
   "execution_count": null,
   "metadata": {},
   "outputs": [],
   "source": []
  }
 ],
 "metadata": {
  "kernelspec": {
   "display_name": "Python 3",
   "language": "python",
   "name": "python3"
  },
  "language_info": {
   "codemirror_mode": {
    "name": "ipython",
    "version": 3
   },
   "file_extension": ".py",
   "mimetype": "text/x-python",
   "name": "python",
   "nbconvert_exporter": "python",
   "pygments_lexer": "ipython3",
   "version": "3.8.3"
  }
 },
 "nbformat": 4,
 "nbformat_minor": 4
}
