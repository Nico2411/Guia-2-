{
 "cells": [
  {
   "cell_type": "markdown",
   "metadata": {},
   "source": [
    "Para este ejercicio usaremos la funcion inversa.\n",
    "Generalmente damos una V.A. uniforme entre [0,1], la ponemos en la distribucion de Poisson para encontrar el numero de eventos N, \n",
    "Pero este puede ser muy dificil de hacer, por lo cual usamos el intervalo de tiempo entre eventos exitosos a cambio, estos tienen\n",
    "una distribucion exponencial, lo cual lo hace mas facil resolver el problema, con la inversa de la funcion de distribucion de \n",
    "Poisson (PDF) y una V.A. uniforme entre [0,1] obtenemos el numero de eventos en un intervalo dado. "
   ]
  },
  {
   "cell_type": "code",
   "execution_count": 1,
   "metadata": {},
   "outputs": [],
   "source": [
    "from random import random \n",
    "import math\n",
    "import numpy as np\n",
    "import matplotlib.pyplot as plt"
   ]
  },
  {
   "cell_type": "markdown",
   "metadata": {},
   "source": [
    "La distribucion entre los eventos en el intervalo es de forma exponencial: X = exp(_lambda)\n",
    "Donde _lambda es el promedio de la distribucion.\n",
    "La funcion de distribucion de Poisson es: \n",
    "    \n",
    "    P(t) = (_lambda) * exp -(_lambda*t) \n",
    "\n",
    "Como quiero averiguar la probabilidad en un intervalo, debo usar la acumulada, que es la integral entre 0 y t. Lo cual es:\n",
    "    \n",
    "    C(t) = 1 - exp -(_lambda*t)\n",
    "\n",
    "que nos va a dar un numero z, entre 0 y 1.\n",
    "Obtengo la inversa en funcion de z:\n",
    "    \n",
    "    F(z) = - ln(1 - z)/_lambda\n",
    "    \n",
    "Nos va a dar el tiempo entre cada evento, empezando en cero y sumando el tiempo de cada evento  encontrado con la expresion de arriba hasta llegar a T, tenemos el numero de eventos exitosos en el intervalo [0,T]\n",
    "    \n",
    "Evaluando un suficiente numeros de veces (varios valores de z) obtendremos  el numero de exitos N en el intervalo.\n"
   ]
  },
  {
   "cell_type": "code",
   "execution_count": 118,
   "metadata": {},
   "outputs": [],
   "source": [
    "    mu = 5\n",
    "#     promedio temporal del intervalo, predefinido: 5\n",
    "    tiradas = 100\n",
    "#     Numero de sorteos dentro del intervalo,  un numero suficientemente grande para llegar a cubrirlo\n",
    "    to = 0\n",
    "#     Tiempo de inicio del intervalo, predefinido: 0\n",
    "    _inter = 3\n",
    "#     Intervalo de tiempo, predfinido: 3\n",
    "    repeticiones = 10000\n",
    "#     El numero de veces que vamos a ejecutar la funcion\n",
    "    lista_n = []\n",
    "#     Quiero agregar en un lista el numero de cada evento exitoso en el intervalo\n",
    "\n",
    "    for p in range(repeticiones):\n",
    "        n = 0\n",
    "        to = 0\n",
    "#         Quiero que por cada repeticion, los valores de n y t arranque en cero\n",
    "        for i in range(tiradas):\n",
    "#         Obtengo el valor de probabilidad de Uniform (0,1)\n",
    "            z = random()\n",
    "#         Lo uso en la funcion inversa, y saco el tiempo de intervalo entre llegadas   \n",
    "            k = -math.log(1 - z)/ mu\n",
    "#     Le sumo el tiempo entre llegadas a la suma corriente\n",
    "            to = to + k\n",
    "            n = n + 1\n",
    "#         n me da los tiempos de los eventos   \n",
    "            if to > _inter:\n",
    "             break\n",
    "#             Cuando superamos el intervalo, para con el sorteo\n",
    "        lista_n.append(n)"
   ]
  },
  {
   "cell_type": "code",
   "execution_count": 119,
   "metadata": {},
   "outputs": [
    {
     "data": {
      "text/plain": [
       "10000"
      ]
     },
     "execution_count": 119,
     "metadata": {},
     "output_type": "execute_result"
    }
   ],
   "source": [
    "len(lista_n)\n",
    "# Veo si las cantidad de repeticiones coincide con el len de la lista"
   ]
  },
  {
   "cell_type": "code",
   "execution_count": 121,
   "metadata": {},
   "outputs": [
    {
     "data": {
      "text/plain": [
       "Text(0, 0.5, 'Conteos')"
      ]
     },
     "execution_count": 121,
     "metadata": {},
     "output_type": "execute_result"
    },
    {
     "data": {
      "image/png": "[encoded data removed]",
      "text/plain": [
       "<Figure size 432x288 with 1 Axes>"
      ]
     },
     "metadata": {
      "needs_background": "light"
     },
     "output_type": "display_data"
    }
   ],
   "source": [
    "plt.hist(lista_n, bins = 31)\n",
    "# Hacemos el histograma, los bins depende de cada funcion, muchos bins puede suponer perdida de informacion y hay huecos, mientras\n",
    "# que pocos bins el histograma sale mal\n",
    "plt.xlabel ('Numero de exitos en el intervalo de 3 horas')\n",
    "plt.ylabel ('Conteos')"
   ]
  },
  {
   "cell_type": "markdown",
   "metadata": {},
   "source": [
    "Vemos que el maximo de repeticiones ocurre para las 14,15,16 exitos en el intervalo de 3 horas"
   ]
  }
 ],
 "metadata": {
  "kernelspec": {
   "display_name": "Python 3",
   "language": "python",
   "name": "python3"
  },
  "language_info": {
   "codemirror_mode": {
    "name": "ipython",
    "version": 3
   },
   "file_extension": ".py",
   "mimetype": "text/x-python",
   "name": "python",
   "nbconvert_exporter": "python",
   "pygments_lexer": "ipython3",
   "version": "3.8.3"
  }
 },
 "nbformat": 4,
 "nbformat_minor": 4
}
