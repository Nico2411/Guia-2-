{
 "cells": [
  {
   "cell_type": "markdown",
   "metadata": {},
   "source": [
    "En el caso de que la funcion distribucion no pueda invertirse, se tiene que aplicar metodos especiales. Tomemos como ejemplo el caso en el que necesitemos generar numeros aleatorios a partir de una distribucion normal o gaussiana.\n",
    "Sean dos V.A. X e Y normales estandard e independientes, son normales porque su funcion de densidad de probabilidad es la gaussiana, y son estandard porque su media es cero y su desviacion estandard es 1, mientras que independientes es porque el sorteo de una variable no tiene que ver con la otra (el resultado de X no depende de Y y viceversa).\n",
    "Ahora defino dos nuevas variables: \n",
    "\n",
    "<center> \n",
    "$R^2=X^2+Y^2$\n",
    "</center>\n",
    "\n",
    "<center> \n",
    "$tan(\\theta)=\\frac{Y}{X}$\n",
    "</center>\n",
    "\n",
    "Como X e Y son independientes, la funcion de densidad de probabilidad conjunta f(X,Y) satisface:\n",
    "\n",
    "$f(X,Y) = f(X) * f(Y)$\n",
    "\n",
    "i.e.\n",
    "\n",
    "<center>\n",
    "$f(X,Y)=\\frac{1}{\\sqrt{2\\pi}}exp(\\frac{-X^2}{2})\\frac{1}{\\sqrt{2\\pi}}exp(\\frac{-Y^2}{2})=\\frac{1}{2\\pi}exp(\\frac{-R^2}{2})$\n",
    "</center>\n",
    "\n",
    "Teniendo entonces la funcion de densidad de probabilidad de X e Y, las transformaciones de $R^2$ y $\\theta$, entonces podemos aplicar el teorema de cambio de variables para obtener la funcion de densidad de probabilidad $f($R^2$,$\\theta$)$. Esta ultima funcion nos da dos V.A. independientes mucho mas faciles de calcular, y al final vamos a proceder al reves: Con el teorema de cambio de variables, dados $R^2$ y $\\theta$ obtenemos X e Y. La funcion es:\n",
    "\n",
    "<center>\n",
    "$f(R^2,\\theta)=\\frac{1}{2}\\frac{1}{2\\pi}exp(\\frac{-R^2}{2})$\n",
    "</center>\n",
    "\n",
    "Donde el 1/2 proviene del determinante del Jacobiano y el factor el $1/2\\pi$ seria la $f(\\theta)$ y el resto es $f(R^2)$, y notar que esta ultima parte, no es una gaussiana, sino una exponencial, por lo cual usaremos la transformada de la funcion inversa para R^2 como en el problema 5. \n",
    "Por lo tanto sorteamos tita entre [0,$2\\pi$] y R^2 con distribucion exponencial con lambda = 1/2\n"
   ]
  },
  {
   "cell_type": "markdown",
   "metadata": {},
   "source": [
    "Para generar dos V.A. independientes usaremos coordenadas polares y luego las pasaremos de vuelta de rectangulares. De la siguiente manera se logra eso:\n",
    "\n",
    "1) Generamos dos V.A. u1 y u2 que van en [0,1]\n",
    "\n",
    "2) $R^2 = -2log(u1)$ (usamos la funcion inversa) y $\\theta = 2\\pi (u2)$ (asi nos queda uniforme entre 0 y $2\\pi$)\n",
    "\n",
    "3) $X = R  cos(\\theta) = (-2log(u1))^\\frac{1}{2} cos(2\\pi (u2))$\n",
    "   \n",
    "   $Y = R  sin(\\theta) = (-2log(u1))^\\frac{1}{2} sin(2\\pi (u2))$\n",
    "Estas se conocen como transformaciones de Box-Muller \n"
   ]
  },
  {
   "cell_type": "code",
   "execution_count": 1,
   "metadata": {},
   "outputs": [],
   "source": [
    "from random import random \n",
    "import math\n",
    "import numpy as np\n",
    "import matplotlib.pyplot as plt"
   ]
  },
  {
   "cell_type": "code",
   "execution_count": 2,
   "metadata": {},
   "outputs": [],
   "source": [
    "pi = math.pi\n",
    "# Defino a pi"
   ]
  },
  {
   "cell_type": "markdown",
   "metadata": {},
   "source": [
    "Tambien quiero calcular el tiempo de ejecucion del codigo, uso timeit"
   ]
  },
  {
   "cell_type": "code",
   "execution_count": 3,
   "metadata": {},
   "outputs": [],
   "source": [
    "import timeit"
   ]
  },
  {
   "cell_type": "code",
   "execution_count": 39,
   "metadata": {},
   "outputs": [],
   "source": [
    "\n",
    "# Defino x e y como habiamos dicho y creo una lista de valores:\n",
    "X = []\n",
    "Y = []\n",
    "\n",
    "for i in range (10000):\n",
    "#     itero mcuchas veces, para que la distribucion se asemeje lo mas posible a la normal\n",
    "        u1=random()\n",
    "        u2=random()\n",
    "    \n",
    "        R =  (-2*math.log(u1))**0.5\n",
    "\n",
    "        T = 2*pi*u2 \n",
    "\n",
    "        x = R * math.cos(T)\n",
    "\n",
    "        y = R * math.sin(T)\n",
    "    \n",
    "        X.append(x)\n",
    "        Y.append(y)\n",
    "  \n",
    " "
   ]
  },
  {
   "cell_type": "code",
   "execution_count": 42,
   "metadata": {},
   "outputs": [
    {
     "name": "stdout",
     "output_type": "stream",
     "text": [
      "Wall time: 0 ns\n"
     ]
    }
   ],
   "source": [
    "%time X = X"
   ]
  },
  {
   "cell_type": "markdown",
   "metadata": {},
   "source": [
    "Para ver que tiene una distribucion normal, hacemos un histograma"
   ]
  },
  {
   "cell_type": "code",
   "execution_count": 34,
   "metadata": {},
   "outputs": [
    {
     "name": "stdout",
     "output_type": "stream",
     "text": [
      "Wall time: 0 ns\n"
     ]
    }
   ],
   "source": [
    "# Tiempo de generacion\n",
    "%time X = X"
   ]
  },
  {
   "cell_type": "code",
   "execution_count": 43,
   "metadata": {},
   "outputs": [
    {
     "data": {
      "text/plain": [
       "Text(0, 0.5, 'Conteo')"
      ]
     },
     "execution_count": 43,
     "metadata": {},
     "output_type": "execute_result"
    },
    {
     "data": {
      "image/png": "[encoded data removed]",
      "text/plain": [
       "<Figure size 432x288 with 1 Axes>"
      ]
     },
     "metadata": {
      "needs_background": "light"
     },
     "output_type": "display_data"
    }
   ],
   "source": [
    "plt.hist(X, bins = 30)\n",
    "plt.xlabel ('Valores de x')\n",
    "plt.ylabel('Conteo')"
   ]
  },
  {
   "cell_type": "markdown",
   "metadata": {},
   "source": [
    "Vemos que el pico se encuentra en x = 0, como deberia dar en teoria"
   ]
  },
  {
   "cell_type": "markdown",
   "metadata": {},
   "source": [
    "Vemos como mejorar el codigo, pues el tema en cuestion es que calcular las funciones trigonometricas coseno y seno para la computadora es mucho trabajo, esto se puede aligerir cambiandolo de la siguiente forma:\n",
    "Si u es uniforme en [0,1], entonces 2u es uniforme en [0;2] y si defino:\n",
    "\n",
    "<center> \n",
    "$V = 2u - 1$\n",
    "</center>\n",
    "\n",
    "Entonces $V$ es uniforme en [-1;1] y si hacemos esto con $(u1,u2)$ generamos $(V1,V2)$, estaran uniformemente distruibuidos en un cuadrado de lado 2 con centro en el origen \n"
   ]
  },
  {
   "cell_type": "code",
   "execution_count": 44,
   "metadata": {},
   "outputs": [],
   "source": [
    "\n",
    "X2 = []\n",
    "Y2 = []\n",
    "\n",
    "for i in range (10000):\n",
    "\n",
    "        u1=random()\n",
    "        u2=random()\n",
    "        V1 = 2*u1 -1\n",
    "        V2 = 2*u2 -1\n",
    "        S = V1**2 + V2**2\n",
    "#    El radio del circulo es la unidad, por lo cual S no debe ser mayor a 1\n",
    "        if S<=1:\n",
    "        \n",
    "            x = V1 * (-2*math.log(S)/S)**0.5\n",
    "        \n",
    "            y = V2 * (-2*math.log(S)/S)**0.5\n",
    "#         Ver desarollo en 'Simulation' (Ross Sheldon) Cap. 5 pag. 74\n",
    "            X2.append(x)\n",
    "            Y2.append(y)\n"
   ]
  },
  {
   "cell_type": "code",
   "execution_count": 45,
   "metadata": {},
   "outputs": [
    {
     "name": "stdout",
     "output_type": "stream",
     "text": [
      "Wall time: 0 ns\n"
     ]
    }
   ],
   "source": [
    "%time X2 =X2"
   ]
  },
  {
   "cell_type": "markdown",
   "metadata": {},
   "source": [
    "Me da cero porque tengo Windows 32 bit y segun la nota de time?, el tiempo no puede ser medido en este sistema y siempre va a dar cero"
   ]
  },
  {
   "cell_type": "code",
   "execution_count": 46,
   "metadata": {},
   "outputs": [
    {
     "data": {
      "text/plain": [
       "Text(0, 0.5, 'Conteo')"
      ]
     },
     "execution_count": 46,
     "metadata": {},
     "output_type": "execute_result"
    },
    {
     "data": {
      "image/png": "[encoded data removed]",
      "text/plain": [
       "<Figure size 432x288 with 1 Axes>"
      ]
     },
     "metadata": {
      "needs_background": "light"
     },
     "output_type": "display_data"
    }
   ],
   "source": [
    "plt.hist(X2, bins ='fd')\n",
    "plt.xlabel('x en un circulo de radio unidad')\n",
    "plt.ylabel('Conteo')"
   ]
  },
  {
   "cell_type": "markdown",
   "metadata": {},
   "source": [
    "Ahora quiero graficar X e Y, hago:"
   ]
  },
  {
   "cell_type": "code",
   "execution_count": 50,
   "metadata": {},
   "outputs": [],
   "source": [
    "# time?"
   ]
  },
  {
   "cell_type": "code",
   "execution_count": 51,
   "metadata": {},
   "outputs": [],
   "source": [
    "import seaborn as sns"
   ]
  },
  {
   "cell_type": "code",
   "execution_count": 52,
   "metadata": {},
   "outputs": [
    {
     "data": {
      "text/plain": [
       "Text(336.9714285714286, 0.5, 'Y')"
      ]
     },
     "execution_count": 52,
     "metadata": {},
     "output_type": "execute_result"
    },
    {
     "data": {
      "image/png": "[encoded data removed]",
      "text/plain": [
       "<Figure size 432x432 with 3 Axes>"
      ]
     },
     "metadata": {
      "needs_background": "light"
     },
     "output_type": "display_data"
    }
   ],
   "source": [
    "sns.jointplot(X2,Y2)\n",
    "plt.xlabel('X')\n",
    "plt.ylabel('Y')\n",
    "# Nos grafica dos variables en el plano xy, y sus respectivas distribuciones"
   ]
  },
  {
   "cell_type": "markdown",
   "metadata": {},
   "source": [
    "Observemos que la distribucion se aproxima a un circulo. \n",
    "Quiero ahora ver que se asemejan linealmente las distribuciones.\n",
    "Para eso importo:"
   ]
  },
  {
   "cell_type": "code",
   "execution_count": 53,
   "metadata": {},
   "outputs": [],
   "source": [
    "from scipy import stats as st"
   ]
  },
  {
   "cell_type": "code",
   "execution_count": 54,
   "metadata": {},
   "outputs": [
    {
     "data": {
      "text/plain": [
       "7842"
      ]
     },
     "execution_count": 54,
     "metadata": {},
     "output_type": "execute_result"
    }
   ],
   "source": [
    "# Reordeno los valores empiricos\n",
    "X2.sort()\n",
    "len(X2)\n",
    "# No me va a dar el numero de iteraciones que pedi por el if: S<=1\n",
    "# Si eso no se cumple descarta el dato"
   ]
  },
  {
   "cell_type": "markdown",
   "metadata": {},
   "source": [
    "Reoderno X2 y tengo los cuantiles para esa distribucion empirica, para la teorica uso la funcion ppf para obtener los cuantiles\n",
    "de una distribucion normal discreta, entonces si no se difieren uno de otro, al graficar los cuantiles empiricos y teoricos me debe dar una linea recta."
   ]
  },
  {
   "cell_type": "code",
   "execution_count": 55,
   "metadata": {},
   "outputs": [],
   "source": [
    "H2 = []\n",
    "for i in range (len(X2)):\n",
    "    q = st.norm.ppf((i+1)/(len(X2)+1), loc = 0)\n",
    "    H2.append(q)\n",
    "# Sumo uno porque python empiezo de cero entonces el quantil de cero esta en el -infinito\n",
    "# Pero si solo sumo i+1 entonces el ultimo i mas uno da mayor a 1 en la fraccion, y eso se encuentra en mas infinito tambien\n",
    "# Por lo tanto sumo +1 en denominador y numerador"
   ]
  },
  {
   "cell_type": "code",
   "execution_count": 56,
   "metadata": {},
   "outputs": [
    {
     "data": {
      "text/plain": [
       "Text(336.9714285714286, 0.5, 'Empirico')"
      ]
     },
     "execution_count": 56,
     "metadata": {},
     "output_type": "execute_result"
    },
    {
     "data": {
      "image/png": "[encoded data removed]",
      "text/plain": [
       "<Figure size 432x432 with 3 Axes>"
      ]
     },
     "metadata": {
      "needs_background": "light"
     },
     "output_type": "display_data"
    }
   ],
   "source": [
    "sns.jointplot(H2,X2)\n",
    "plt.xlabel('Teorico')\n",
    "plt.ylabel('Empirico')"
   ]
  },
  {
   "cell_type": "markdown",
   "metadata": {},
   "source": [
    "Vemos que forman una linea recta, a excepcion de los extremos que puede deberse a que se encuentran al final de la distribucion y\n",
    "pueden ser fluctuaciones."
   ]
  },
  {
   "cell_type": "code",
   "execution_count": null,
   "metadata": {},
   "outputs": [],
   "source": []
  }
 ],
 "metadata": {
  "kernelspec": {
   "display_name": "Python 3",
   "language": "python",
   "name": "python3"
  },
  "language_info": {
   "codemirror_mode": {
    "name": "ipython",
    "version": 3
   },
   "file_extension": ".py",
   "mimetype": "text/x-python",
   "name": "python",
   "nbconvert_exporter": "python",
   "pygments_lexer": "ipython3",
   "version": "3.8.3"
  }
 },
 "nbformat": 4,
 "nbformat_minor": 4
}
