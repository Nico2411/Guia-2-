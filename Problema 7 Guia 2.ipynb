{
 "cells": [
  {
   "cell_type": "markdown",
   "metadata": {},
   "source": [
    "En el caso de que la funcion distribucion no pueda invertirse, se tiene que aplicar metodos especiales. Tomemos como ejemplo el caso en el que necesitemos generar numeros aleatorios a partir de una distribucion normal o gaussiana.\n",
    "Sean dos V.A. X e Y normales estandard e independientes, son normales porque su funcion de densidad de probabilidad es la gaussiana, y son estandard porque su media es cero y su desviacion estandard es 1, mientras que independientes es porque el sorteo de una variable no tiene que ver con la otra (el resultado de X no depende de Y y viceversa).\n",
    "Ahora defino dos nuevas variables: \n",
    "\n",
    "<center> \n",
    "$R^2=X^2+Y^2$\n",
    "</center>\n",
    "\n",
    "<center> \n",
    "$tan(\\theta)=\\frac{Y}{X}$\n",
    "</center>\n",
    "\n",
    "Como X e Y son independientes, la funcion de densidad de probabilidad conjunta f(X,Y) satisface:\n",
    "\n",
    "$f(X,Y) = f(X) * f(Y)$\n",
    "\n",
    "i.e.\n",
    "\n",
    "<center>\n",
    "$f(X,Y)=\\frac{1}{\\sqrt{2\\pi}}exp(\\frac{-X^2}{2})\\frac{1}{\\sqrt{2\\pi}}exp(\\frac{-Y^2}{2})=\\frac{1}{2\\pi}exp(\\frac{-R^2}{2})$\n",
    "</center>\n",
    "\n",
    "Teniendo entonces la funcion de densidad de probabilidad de X e Y, las transformaciones de $R^2$ y $\\theta$, entonces podemos aplicar el teorema de cambio de variables para obtener la funcion de densidad de probabilidad $f($R^2$,$\\theta$)$. Esta ultima funcion nos da dos V.A. independientes mucho mas faciles de calcular, y al final vamos a proceder al reves: Con el teorema de cambio de variables, dados $R^2$ y $\\theta$ obtenemos X e Y. La funcion es:\n",
    "\n",
    "<center>\n",
    "$f(R^2,\\theta)=\\frac{1}{2}\\frac{1}{2\\pi}exp(\\frac{-R^2}{2})$\n",
    "</center>\n",
    "\n",
    "Donde el 1/2 proviene del determinante del Jacobiano y el factor el $1/2\\pi$ seria la $f(\\theta)$ y el resto es $f(R^2)$, y notar que esta ultima parte, no es una gaussiana, sino una exponencial, por lo cual usaremos la transformada de la funcion inversa para R^2 como en el problema 5. \n",
    "Por lo tanto sorteamos tita entre [0,$2\\pi$] y R^2 con distribucion exponencial con lambda = 1/2\n"
   ]
  },
  {
   "cell_type": "markdown",
   "metadata": {},
   "source": [
    "Para generar dos V.A. independientes usaremos coordenadas polares y luego las pasaremos de vuelta de rectangulares. De la siguiente manera se logra eso:\n",
    "\n",
    "1) Generamos dos V.A. u1 y u2 que van en [0,1]\n",
    "\n",
    "2) $R^2 = -2log(u1)$ (usamos la funcion inversa) y $\\theta = 2\\pi (u2)$ (asi nos queda uniforme entre 0 y $2\\pi$)\n",
    "\n",
    "3) $X = R  cos(\\theta) = (-2log(u1))^\\frac{1}{2} cos(2\\pi (u2))$\n",
    "   \n",
    "   $Y = R  sin(\\theta) = (-2log(u1))^\\frac{1}{2} sin(2\\pi (u2))$\n",
    "Estas se conocen como transformaciones de Box-Muller \n"
   ]
  },
  {
   "cell_type": "code",
   "execution_count": 5,
   "metadata": {},
   "outputs": [],
   "source": [
    "from random import random \n",
    "import math\n",
    "import numpy as np\n",
    "import matplotlib.pyplot as plt"
   ]
  },
  {
   "cell_type": "code",
   "execution_count": 17,
   "metadata": {},
   "outputs": [],
   "source": [
    "pi = math.pi\n",
    "# Defino a pi"
   ]
  },
  {
   "cell_type": "code",
   "execution_count": 61,
   "metadata": {},
   "outputs": [],
   "source": [
    "# Defino x e y como habiamos dicho y creo una lista de valores:\n",
    "X = []\n",
    "Y = []\n",
    "\n",
    "for i in range (10000):\n",
    "#     itero mcuchas veces, para que la distribucion se asemeje lo mas posible a la normal\n",
    "    u1=random()\n",
    "    u2=random()\n",
    "    \n",
    "    R =  (-2*math.log(u1))**0.5\n",
    "\n",
    "    T = 2*pi*u2 \n",
    "\n",
    "    x = R * math.cos(T)\n",
    "\n",
    "    y = R * math.sin(T)\n",
    "    \n",
    "    X.append(x)\n",
    "    Y.append(y)\n"
   ]
  },
  {
   "cell_type": "markdown",
   "metadata": {},
   "source": [
    "Para ver que tiene una distribucion normal, hacemos un histograma"
   ]
  },
  {
   "cell_type": "code",
   "execution_count": 67,
   "metadata": {},
   "outputs": [
    {
     "data": {
      "text/plain": [
       "Text(0, 0.5, 'Conteo')"
      ]
     },
     "execution_count": 67,
     "metadata": {},
     "output_type": "execute_result"
    },
    {
     "data": {
      "image/png": "[encoded data removed]",
      "text/plain": [
       "<Figure size 432x288 with 1 Axes>"
      ]
     },
     "metadata": {
      "needs_background": "light"
     },
     "output_type": "display_data"
    }
   ],
   "source": [
    "plt.hist(X, bins = 30)\n",
    "plt.xlabel ('Valores de x')\n",
    "plt.ylabel('Conteo')"
   ]
  },
  {
   "cell_type": "markdown",
   "metadata": {},
   "source": [
    "Vemos que el pico se encuentra en x = 0, como deberia dar en teoria"
   ]
  },
  {
   "cell_type": "markdown",
   "metadata": {},
   "source": [
    "Vemos como mejorar el codigo, pues el tema en cuestion es que calcular las funciones trigonometricas coseno y seno para la computadora es mucho trabajo, esto se puede aligerir cambiandolo de la siguiente forma:\n",
    "Si u es uniforme en [0,1], entonces 2u es uniforme en [0;2] y si defino:\n",
    "\n",
    "<center> \n",
    "$V = 2u - 1$\n",
    "</center>\n",
    "\n",
    "Entonces $V$ es uniforme en [-1;1] y si hacemos esto con $(u1,u2)$ generamos $(V1,V2)$, estaran uniformemente distruibuidos en un cuadrado de lado 2 con centro en el origen \n"
   ]
  },
  {
   "cell_type": "code",
   "execution_count": 74,
   "metadata": {},
   "outputs": [],
   "source": [
    "X2 = []\n",
    "Y2 = []\n",
    "\n",
    "for i in range (10000):\n",
    "\n",
    "    u1=random()\n",
    "    u2=random()\n",
    "    V1 = 2*u1 -1\n",
    "    V2 = 2*u2 -1\n",
    "    S = V1**2 + V2**2\n",
    "#    El radio del circulo es la unidad, por lo cual S no debe ser mayor a 1\n",
    "    if S<=1:\n",
    "        \n",
    "        x = V1 * (-2*math.log(S)/S)**0.5\n",
    "        \n",
    "        y = V2 * (-2*math.log(S)/S)**0.5\n",
    "#         Ver desarollo en 'Simulation' (Ross Sheldon) Cap. 5 pag. 74\n",
    "        X2.append(x)\n",
    "        Y2.append(y)"
   ]
  },
  {
   "cell_type": "code",
   "execution_count": 76,
   "metadata": {},
   "outputs": [
    {
     "data": {
      "text/plain": [
       "Text(0, 0.5, 'Conteo')"
      ]
     },
     "execution_count": 76,
     "metadata": {},
     "output_type": "execute_result"
    },
    {
     "data": {
      "image/png": "[encoded data removed]",
      "text/plain": [
       "<Figure size 432x288 with 1 Axes>"
      ]
     },
     "metadata": {
      "needs_background": "light"
     },
     "output_type": "display_data"
    }
   ],
   "source": [
    "plt.hist(X2, bins ='fd')\n",
    "plt.xlabel('x en un circulo de radio unidad')\n",
    "plt.ylabel('Conteo')"
   ]
  },
  {
   "cell_type": "markdown",
   "metadata": {},
   "source": [
    "Ahora quiero graficar X e Y, hago:"
   ]
  },
  {
   "cell_type": "code",
   "execution_count": 77,
   "metadata": {},
   "outputs": [],
   "source": [
    "import seaborn as sns"
   ]
  },
  {
   "cell_type": "code",
   "execution_count": 82,
   "metadata": {},
   "outputs": [
    {
     "data": {
      "text/plain": [
       "Text(336.9714285714286, 0.5, 'Y')"
      ]
     },
     "execution_count": 82,
     "metadata": {},
     "output_type": "execute_result"
    },
    {
     "data": {
      "image/png": "[encoded data removed]",
      "text/plain": [
       "<Figure size 432x432 with 3 Axes>"
      ]
     },
     "metadata": {
      "needs_background": "light"
     },
     "output_type": "display_data"
    }
   ],
   "source": [
    "sns.jointplot(X2,Y2)\n",
    "plt.xlabel('X')\n",
    "plt.ylabel('Y')\n",
    "# Nos grafica dos variables en el plano xy, y sus respectivas distribuciones"
   ]
  },
  {
   "cell_type": "code",
   "execution_count": null,
   "metadata": {},
   "outputs": [],
   "source": [
    "Observemos que la distribucion se aproxima a un circulo. \n",
    "No llegue a hacer lo de los quantiles por falta de tiempo."
   ]
  },
  {
   "cell_type": "code",
   "execution_count": null,
   "metadata": {},
   "outputs": [],
   "source": []
  }
 ],
 "metadata": {
  "kernelspec": {
   "display_name": "Python 3",
   "language": "python",
   "name": "python3"
  },
  "language_info": {
   "codemirror_mode": {
    "name": "ipython",
    "version": 3
   },
   "file_extension": ".py",
   "mimetype": "text/x-python",
   "name": "python",
   "nbconvert_exporter": "python",
   "pygments_lexer": "ipython3",
   "version": "3.8.3"
  }
 },
 "nbformat": 4,
 "nbformat_minor": 4
}
