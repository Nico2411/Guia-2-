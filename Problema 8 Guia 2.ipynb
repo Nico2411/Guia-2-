{
 "cells": [
  {
   "cell_type": "markdown",
   "metadata": {},
   "source": [
    "La V.A x se mide desde el centro de la aguja y se encuentra dentro del intervalo $[0;t]$, pero dado que es una distribucion uniforme por simetria (ya que no distinguimos la raya de arriba de la de abajo) podemos usar que x pertenece $[0;t/2]$ , y como la integral de la funcion de densidad de probabilidad debe dar 1 dentro del intevalo entonces si usamos que es costante: \n",
    "\n",
    "$\\int_0^\\frac{t}{2} a dx = 1$\n",
    "sii\n",
    "$a = \\frac{2}{t}$\n",
    "\n",
    "Por lo tanto su funcion de densidad de probabilidad $f(x) = \\frac{2}{t} dx$\n",
    "\n",
    "La V.A. $\\theta$ se distribuye uniformemente y por simetria entre [0;$ \\frac{\\pi}{2}$], siendo esta, por definicion un angulo agudo, tenemos que la funcion de densidad de probabilidad:\n",
    "\n",
    "$f(\\theta) = \\frac{2}{\\pi} d\\theta$\n",
    "\n",
    "Al ser ambas variables independientes, la funcion densidad para la aguja es el producto de ambas:\n",
    "\n",
    "$f(x,\\theta) = \\frac{4}{t\\pi} dx d\\theta$\n",
    "\n",
    "Para obtener la funcion de probabilidad, integramos la funcion de densidad arriba descripta, pero antes delimitamos la region de integracion para la V.A. x, pues sabemos que si: \n",
    "\n",
    "$x\\leq \\frac{l}{2} sin(\\theta)$ \n",
    "\n",
    "La aguja cruza la linea, al final la integral queda:\n",
    "\n",
    "$\\int_0^\\frac{\\pi}{2}\\int_0^\\frac{lsin(\\theta)}{2}  \\frac{4}{t\\pi} dx d\\theta = \\frac{2l}{t\\pi} $\n",
    "\n",
    "Si se lanzan $N$ agujas y $M$ cruzan la linea entonces se puede demostrar que la probabilidad de que la aguja toque la raya es (y con t > l):\n",
    "\n",
    "$\\frac{M}{N} \\approx \\frac{2l}{t\\pi}$\n",
    "\n",
    "Despejando para $\\pi$ obtenemos:\n",
    "\n",
    "$\\pi \\approx \\frac{2 N l}{M t}$\n",
    "\n",
    "Esta forma de encontrar $\\pi$ se llama \"Metodo de Montecarlo\"."
   ]
  },
  {
   "cell_type": "markdown",
   "metadata": {},
   "source": [
    "Creo un programa que ejecute varios lanzamientos de agujas para aproximar el numero $\\pi$"
   ]
  },
  {
   "cell_type": "code",
   "execution_count": 2,
   "metadata": {},
   "outputs": [],
   "source": [
    "from random import random\n",
    "import matplotlib.pyplot as plt\n",
    "import numpy as np\n",
    "import math"
   ]
  },
  {
   "cell_type": "code",
   "execution_count": 3,
   "metadata": {},
   "outputs": [],
   "source": [
    "pi = math.pi\n",
    "# Defino a pi"
   ]
  },
  {
   "cell_type": "code",
   "execution_count": 35,
   "metadata": {},
   "outputs": [],
   "source": [
    "def Montecarlo(l=0.5,t=1, N=10000):\n",
    "#     Le doy por defecto estos valores\n",
    "#     l es la longitud de la aguja, t el ancho entre lineas, vamos a suponer t > l, N es el numero de iteraciones\n",
    "\n",
    "    M = 0\n",
    "#     M es el numero de agujas que cruzan la linea\n",
    "    for i in range(N):\n",
    "        X = t*0.5*random()\n",
    "        T = pi*0.5*random()\n",
    "#     De esta forma x y tita estan siempre dentro del intervalo, ademas quiero que se ejecuten para cada N\n",
    "        if X <= l*0.5*math.sin(T):\n",
    "            M = M + 1\n",
    "    \n",
    "    Pi = 2*N*l/(M*t)\n",
    "    if Pi <pi:\n",
    "#         Hago que la estimacion quede siempre por debajo del valor de pi guardado en python\n",
    "        print ( 'Numero de agujas que cruzaron la linea:', M)\n",
    "        print ('El valor estimado de pi es:', Pi)\n",
    "        print ('Porcentaje de aproximacion a pi:', Pi*100/pi)\n",
    "        \n",
    "        "
   ]
  },
  {
   "cell_type": "code",
   "execution_count": 42,
   "metadata": {},
   "outputs": [
    {
     "name": "stdout",
     "output_type": "stream",
     "text": [
      "Numero de agujas que cruzaron la linea: 31916\n",
      "El valor estimado de pi es: 3.133224714876551\n",
      "Porcentaje de aproximacion a pi: 99.7336402380595\n"
     ]
    }
   ],
   "source": [
    "Montecarlo(N =100000)"
   ]
  },
  {
   "cell_type": "code",
   "execution_count": null,
   "metadata": {},
   "outputs": [],
   "source": []
  }
 ],
 "metadata": {
  "kernelspec": {
   "display_name": "Python 3",
   "language": "python",
   "name": "python3"
  },
  "language_info": {
   "codemirror_mode": {
    "name": "ipython",
    "version": 3
   },
   "file_extension": ".py",
   "mimetype": "text/x-python",
   "name": "python",
   "nbconvert_exporter": "python",
   "pygments_lexer": "ipython3",
   "version": "3.8.3"
  }
 },
 "nbformat": 4,
 "nbformat_minor": 4
}
